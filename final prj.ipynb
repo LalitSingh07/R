{
 "cells": [
  {
   "cell_type": "code",
   "execution_count": 6,
   "metadata": {
    "vscode": {
     "languageId": "r"
    }
   },
   "outputs": [],
   "source": [
    "library(rvest)\n",
    "\n",
    "# Create a URL object for the COVID-19 pandemic Wiki page\n",
    "covid_wiki_url <- \"https://en.wikipedia.org/wiki/COVID-19_pandemic\"\n",
    "\n",
    "# Make an HTTP request to the URL\n",
    "response <- read_html(covid_wiki_url)\n"
   ]
  },
  {
   "cell_type": "code",
   "execution_count": 7,
   "metadata": {
    "vscode": {
     "languageId": "r"
    }
   },
   "outputs": [
    {
     "ename": "ERROR",
     "evalue": "Error in if (header) {: argument is not interpretable as logical\n",
     "output_type": "error",
     "traceback": [
      "Error in if (header) {: argument is not interpretable as logical\nTraceback:\n",
      "1. html_table(response, \".wikitable.sortable\")",
      "2. html_table.xml_document(response, \".wikitable.sortable\")",
      "3. html_table(tables, header = header, trim = trim, fill = fill, \n .     dec = dec, na.strings = na.strings, convert = convert)",
      "4. html_table.xml_nodeset(tables, header = header, trim = trim, \n .     fill = fill, dec = dec, na.strings = na.strings, convert = convert)",
      "5. lapply(x, html_table, header = header, trim = trim, fill = fill, \n .     dec = dec, na.strings = na.strings, convert = convert)",
      "6. FUN(X[[i]], ...)",
      "7. html_table.xml_node(X[[i]], ...)"
     ]
    }
   ],
   "source": [
    "# Extract the HTML element containing the COVID-19 testing data table\n",
    "testing_data_table <- html_table(response, \".wikitable.sortable\")\n",
    "\n",
    "# Convert the HTML table to an R data frame\n",
    "testing_data <- testing_data_table[[1]]\n"
   ]
  },
  {
   "cell_type": "code",
   "execution_count": 8,
   "metadata": {
    "vscode": {
     "languageId": "r"
    }
   },
   "outputs": [
    {
     "ename": "ERROR",
     "evalue": "Error: object 'testing_data' not found\n",
     "output_type": "error",
     "traceback": [
      "Error: object 'testing_data' not found\nTraceback:\n"
     ]
    }
   ],
   "source": [
    "# Rename the column headers\n",
    "colnames(testing_data) <- c(\"Country\", \"Total Tests\", \"Positive Tests\", \"Positive Rate\")\n",
    "\n",
    "# Remove any empty rows\n",
    "testing_data <- testing_data[!is.na(testing_data$Country), ]\n",
    "\n",
    "# Export the data frame to a CSV file\n",
    "write.csv(testing_data, \"covid_testing_data.csv\")\n"
   ]
  },
  {
   "cell_type": "code",
   "execution_count": null,
   "metadata": {
    "vscode": {
     "languageId": "r"
    }
   },
   "outputs": [],
   "source": []
  }
 ],
 "metadata": {
  "kernelspec": {
   "display_name": "R",
   "language": "R",
   "name": "ir"
  },
  "language_info": {
   "codemirror_mode": "r",
   "file_extension": ".r",
   "mimetype": "text/x-r-source",
   "name": "R",
   "pygments_lexer": "r",
   "version": "4.3.1"
  },
  "orig_nbformat": 4
 },
 "nbformat": 4,
 "nbformat_minor": 2
}
