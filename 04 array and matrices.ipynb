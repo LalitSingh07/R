{
 "cells": [
  {
   "cell_type": "markdown",
   "metadata": {},
   "source": [
    "### Arrays\n",
    "A single or multidimensional structure containing data of the same type(strings ,characters or the integers)"
   ]
  },
  {
   "cell_type": "code",
   "execution_count": 4,
   "metadata": {
    "vscode": {
     "languageId": "r"
    }
   },
   "outputs": [
    {
     "data": {
      "text/html": [
       "<table class=\"dataframe\">\n",
       "<caption>A matrix: 5 × 3 of type chr</caption>\n",
       "<tbody>\n",
       "\t<tr><td>akira</td><td>adasf</td><td>asdf </td></tr>\n",
       "\t<tr><td>tyo  </td><td>fedsf</td><td>dfsf </td></tr>\n",
       "\t<tr><td>asdf </td><td>afsd </td><td>weff </td></tr>\n",
       "\t<tr><td>dfsf </td><td>akira</td><td>adasf</td></tr>\n",
       "\t<tr><td>weff </td><td>tyo  </td><td>fedsf</td></tr>\n",
       "</tbody>\n",
       "</table>\n"
      ],
      "text/latex": [
       "A matrix: 5 × 3 of type chr\n",
       "\\begin{tabular}{lll}\n",
       "\t akira & adasf & asdf \\\\\n",
       "\t tyo   & fedsf & dfsf \\\\\n",
       "\t asdf  & afsd  & weff \\\\\n",
       "\t dfsf  & akira & adasf\\\\\n",
       "\t weff  & tyo   & fedsf\\\\\n",
       "\\end{tabular}\n"
      ],
      "text/markdown": [
       "\n",
       "A matrix: 5 × 3 of type chr\n",
       "\n",
       "| akira | adasf | asdf  |\n",
       "| tyo   | fedsf | dfsf  |\n",
       "| asdf  | afsd  | weff  |\n",
       "| dfsf  | akira | adasf |\n",
       "| weff  | tyo   | fedsf |\n",
       "\n"
      ],
      "text/plain": [
       "     [,1]  [,2]  [,3] \n",
       "[1,] akira adasf asdf \n",
       "[2,] tyo   fedsf dfsf \n",
       "[3,] asdf  afsd  weff \n",
       "[4,] dfsf  akira adasf\n",
       "[5,] weff  tyo   fedsf"
      ]
     },
     "metadata": {},
     "output_type": "display_data"
    }
   ],
   "source": [
    "movie_vector <- c(\"akira\",\"tyo\",\"asdf\",\"dfsf\",\"weff\",\"adasf\",\"fedsf\",\"afsd\")\n",
    "movie_array <- array(movie_vector,dim =c(5,3))\n",
    "movie_array "
   ]
  },
  {
   "cell_type": "markdown",
   "metadata": {},
   "source": [
    "## Accessing an array"
   ]
  },
  {
   "cell_type": "code",
   "execution_count": 5,
   "metadata": {
    "vscode": {
     "languageId": "r"
    }
   },
   "outputs": [
    {
     "data": {
      "text/html": [
       "'asdf'"
      ],
      "text/latex": [
       "'asdf'"
      ],
      "text/markdown": [
       "'asdf'"
      ],
      "text/plain": [
       "[1] \"asdf\""
      ]
     },
     "metadata": {},
     "output_type": "display_data"
    }
   ],
   "source": [
    "movie_array[1, 3] # access by row and columns\n"
   ]
  },
  {
   "cell_type": "code",
   "execution_count": 7,
   "metadata": {
    "vscode": {
     "languageId": "r"
    }
   },
   "outputs": [
    {
     "data": {
      "text/html": [
       "<style>\n",
       ".list-inline {list-style: none; margin:0; padding: 0}\n",
       ".list-inline>li {display: inline-block}\n",
       ".list-inline>li:not(:last-child)::after {content: \"\\00b7\"; padding: 0 .5ex}\n",
       "</style>\n",
       "<ol class=list-inline><li>'akira'</li><li>'adasf'</li><li>'asdf'</li></ol>\n"
      ],
      "text/latex": [
       "\\begin{enumerate*}\n",
       "\\item 'akira'\n",
       "\\item 'adasf'\n",
       "\\item 'asdf'\n",
       "\\end{enumerate*}\n"
      ],
      "text/markdown": [
       "1. 'akira'\n",
       "2. 'adasf'\n",
       "3. 'asdf'\n",
       "\n",
       "\n"
      ],
      "text/plain": [
       "[1] \"akira\" \"adasf\" \"asdf\" "
      ]
     },
     "metadata": {},
     "output_type": "display_data"
    }
   ],
   "source": [
    "movie_array[1,] # Read the whole 1st row"
   ]
  },
  {
   "cell_type": "code",
   "execution_count": 10,
   "metadata": {
    "vscode": {
     "languageId": "r"
    }
   },
   "outputs": [
    {
     "data": {
      "text/html": [
       "<style>\n",
       ".list-inline {list-style: none; margin:0; padding: 0}\n",
       ".list-inline>li {display: inline-block}\n",
       ".list-inline>li:not(:last-child)::after {content: \"\\00b7\"; padding: 0 .5ex}\n",
       "</style>\n",
       "<ol class=list-inline><li>'asdf'</li><li>'dfsf'</li><li>'weff'</li><li>'adasf'</li><li>'fedsf'</li></ol>\n"
      ],
      "text/latex": [
       "\\begin{enumerate*}\n",
       "\\item 'asdf'\n",
       "\\item 'dfsf'\n",
       "\\item 'weff'\n",
       "\\item 'adasf'\n",
       "\\item 'fedsf'\n",
       "\\end{enumerate*}\n"
      ],
      "text/markdown": [
       "1. 'asdf'\n",
       "2. 'dfsf'\n",
       "3. 'weff'\n",
       "4. 'adasf'\n",
       "5. 'fedsf'\n",
       "\n",
       "\n"
      ],
      "text/plain": [
       "[1] \"asdf\"  \"dfsf\"  \"weff\"  \"adasf\" \"fedsf\""
      ]
     },
     "metadata": {},
     "output_type": "display_data"
    }
   ],
   "source": [
    "movie_array[,3]# Read the whole 3rd row"
   ]
  },
  {
   "cell_type": "markdown",
   "metadata": {},
   "source": [
    "## MATRICES"
   ]
  },
  {
   "cell_type": "code",
   "execution_count": 12,
   "metadata": {
    "vscode": {
     "languageId": "r"
    }
   },
   "outputs": [
    {
     "data": {
      "text/html": [
       "<table class=\"dataframe\">\n",
       "<caption>A matrix: 4 × 2 of type chr</caption>\n",
       "<tbody>\n",
       "\t<tr><td>akira</td><td>weff </td></tr>\n",
       "\t<tr><td>tyo  </td><td>adasf</td></tr>\n",
       "\t<tr><td>asdf </td><td>fedsf</td></tr>\n",
       "\t<tr><td>dfsf </td><td>afsd </td></tr>\n",
       "</tbody>\n",
       "</table>\n"
      ],
      "text/latex": [
       "A matrix: 4 × 2 of type chr\n",
       "\\begin{tabular}{ll}\n",
       "\t akira & weff \\\\\n",
       "\t tyo   & adasf\\\\\n",
       "\t asdf  & fedsf\\\\\n",
       "\t dfsf  & afsd \\\\\n",
       "\\end{tabular}\n"
      ],
      "text/markdown": [
       "\n",
       "A matrix: 4 × 2 of type chr\n",
       "\n",
       "| akira | weff  |\n",
       "| tyo   | adasf |\n",
       "| asdf  | fedsf |\n",
       "| dfsf  | afsd  |\n",
       "\n"
      ],
      "text/plain": [
       "     [,1]  [,2] \n",
       "[1,] akira weff \n",
       "[2,] tyo   adasf\n",
       "[3,] asdf  fedsf\n",
       "[4,] dfsf  afsd "
      ]
     },
     "metadata": {},
     "output_type": "display_data"
    }
   ],
   "source": [
    "movie_vector <- c(\"akira\",\"tyo\",\"asdf\",\"dfsf\",\"weff\",\"adasf\",\"fedsf\",\"afsd\")\n",
    "\n",
    "movie_matrix <- matrix(movie_vector, nrow = 4,ncol = 2)\n",
    "\n",
    "movie_matrix"
   ]
  },
  {
   "cell_type": "code",
   "execution_count": 14,
   "metadata": {
    "vscode": {
     "languageId": "r"
    }
   },
   "outputs": [
    {
     "data": {
      "text/html": [
       "<table class=\"dataframe\">\n",
       "<caption>A matrix: 4 × 2 of type chr</caption>\n",
       "<tbody>\n",
       "\t<tr><td>akira</td><td>tyo  </td></tr>\n",
       "\t<tr><td>asdf </td><td>dfsf </td></tr>\n",
       "\t<tr><td>weff </td><td>adasf</td></tr>\n",
       "\t<tr><td>fedsf</td><td>afsd </td></tr>\n",
       "</tbody>\n",
       "</table>\n"
      ],
      "text/latex": [
       "A matrix: 4 × 2 of type chr\n",
       "\\begin{tabular}{ll}\n",
       "\t akira & tyo  \\\\\n",
       "\t asdf  & dfsf \\\\\n",
       "\t weff  & adasf\\\\\n",
       "\t fedsf & afsd \\\\\n",
       "\\end{tabular}\n"
      ],
      "text/markdown": [
       "\n",
       "A matrix: 4 × 2 of type chr\n",
       "\n",
       "| akira | tyo   |\n",
       "| asdf  | dfsf  |\n",
       "| weff  | adasf |\n",
       "| fedsf | afsd  |\n",
       "\n"
      ],
      "text/plain": [
       "     [,1]  [,2] \n",
       "[1,] akira tyo  \n",
       "[2,] asdf  dfsf \n",
       "[3,] weff  adasf\n",
       "[4,] fedsf afsd "
      ]
     },
     "metadata": {},
     "output_type": "display_data"
    }
   ],
   "source": [
    "## change the order of display in terms of rows\n",
    "movie_matrix <- matrix(movie_vector, nrow = 4,ncol = 2,byrow= TRUE)\n",
    "\n",
    "movie_matrix"
   ]
  },
  {
   "cell_type": "markdown",
   "metadata": {},
   "source": [
    "## access the matrix"
   ]
  },
  {
   "cell_type": "code",
   "execution_count": 16,
   "metadata": {
    "vscode": {
     "languageId": "r"
    }
   },
   "outputs": [
    {
     "data": {
      "text/html": [
       "<table class=\"dataframe\">\n",
       "<caption>A matrix: 2 × 2 of type chr</caption>\n",
       "<tbody>\n",
       "\t<tr><td>asdf</td><td>dfsf </td></tr>\n",
       "\t<tr><td>weff</td><td>adasf</td></tr>\n",
       "</tbody>\n",
       "</table>\n"
      ],
      "text/latex": [
       "A matrix: 2 × 2 of type chr\n",
       "\\begin{tabular}{ll}\n",
       "\t asdf & dfsf \\\\\n",
       "\t weff & adasf\\\\\n",
       "\\end{tabular}\n"
      ],
      "text/markdown": [
       "\n",
       "A matrix: 2 × 2 of type chr\n",
       "\n",
       "| asdf | dfsf  |\n",
       "| weff | adasf |\n",
       "\n"
      ],
      "text/plain": [
       "     [,1] [,2] \n",
       "[1,] asdf dfsf \n",
       "[2,] weff adasf"
      ]
     },
     "metadata": {},
     "output_type": "display_data"
    }
   ],
   "source": [
    "movie_matrix[2:3,1:2] # first defines range of rows then second range of col"
   ]
  },
  {
   "cell_type": "code",
   "execution_count": null,
   "metadata": {
    "vscode": {
     "languageId": "r"
    }
   },
   "outputs": [],
   "source": []
  }
 ],
 "metadata": {
  "kernelspec": {
   "display_name": "R",
   "language": "R",
   "name": "ir"
  },
  "language_info": {
   "codemirror_mode": "r",
   "file_extension": ".r",
   "mimetype": "text/x-r-source",
   "name": "R",
   "pygments_lexer": "r",
   "version": "4.3.1"
  },
  "orig_nbformat": 4
 },
 "nbformat": 4,
 "nbformat_minor": 2
}
